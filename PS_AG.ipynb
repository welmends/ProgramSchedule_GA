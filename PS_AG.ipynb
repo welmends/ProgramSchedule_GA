{
 "cells": [
  {
   "cell_type": "code",
   "execution_count": 1,
   "metadata": {},
   "outputs": [],
   "source": [
    "#Import .ipynb as module: %run name.ipynb\n",
    "import math\n",
    "import random\n",
    "import copy\n",
    "import itertools as it"
   ]
  },
  {
   "cell_type": "code",
   "execution_count": 2,
   "metadata": {},
   "outputs": [],
   "source": [
    "class Course:\n",
    "    _staticId = 0\n",
    "    def __init__(self, name, classes, semester):\n",
    "        Course._staticId = Course._staticId + 1\n",
    "        self.id       = Course._staticId\n",
    "        self.name     = name\n",
    "        self.classes  = classes\n",
    "        self.semester = semester\n",
    "        \n",
    "    def __repr__(self):\n",
    "        return 'Course {}: {} ({} classes, {}o semester)'.format(self.id, self.name, self.classes, self.semester)\n",
    "    \n",
    "class Program:\n",
    "    def __init__(self, name, numSemesters, courses):\n",
    "        self.name         = name\n",
    "        self.numSemesters = numSemesters\n",
    "        self.numCourses   = len(courses)\n",
    "        self.courses      = courses\n",
    "    \n",
    "    def __repr__(self):\n",
    "        return 'Program: {} ({} semesters, {} courses)'.format(self.name, self.numSemesters, self.numCourses)\n",
    "    \n",
    "class Schedule:\n",
    "    def __init__(self):\n",
    "        self.weekName = ['Seg', 'Ter', 'Qua', 'Qui', 'Sex']\n",
    "        self.week = [[0]*2]*5\n",
    "        \n",
    "    def __repr__(self):\n",
    "        strOut = '| '\n",
    "        for i in self.weekName:\n",
    "            strOut += i + '  '\n",
    "        strOut += ' |\\n| '\n",
    "        for i in self.week:\n",
    "            strOut += ' ' + str(i[0]) + '   '\n",
    "        strOut += ' |\\n| '\n",
    "        for i in self.week:\n",
    "            strOut += ' ' + str(i[1]) + '   '\n",
    "        strOut += ' |\\n'\n",
    "        return strOut"
   ]
  },
  {
   "cell_type": "code",
   "execution_count": 3,
   "metadata": {},
   "outputs": [
    {
     "name": "stdout",
     "output_type": "stream",
     "text": [
      "[Course 1: Analise de Algoritmos (2 classes, 1o semester), Course 2: Sistemas Embarcados (3 classes, 1o semester), Course 3: Sistemas Operacionais (2 classes, 1o semester)]\n",
      "[Program: EngComp (10 semesters, 3 courses)]\n"
     ]
    }
   ],
   "source": [
    "courses1 = []\n",
    "\n",
    "courses1.append(Course('Analise de Algoritmos', 2, 1))\n",
    "courses1.append(Course('Sistemas Embarcados', 3, 1))\n",
    "courses1.append(Course('Sistemas Operacionais', 2, 1))\n",
    "\n",
    "print(courses1)\n",
    "\n",
    "programs = []\n",
    "\n",
    "programs.append(Program('EngComp', 10, courses1))\n",
    "\n",
    "print(programs)"
   ]
  },
  {
   "cell_type": "code",
   "execution_count": null,
   "metadata": {},
   "outputs": [],
   "source": []
  }
 ],
 "metadata": {
  "kernelspec": {
   "display_name": "Python 3",
   "language": "python",
   "name": "python3"
  },
  "language_info": {
   "codemirror_mode": {
    "name": "ipython",
    "version": 3
   },
   "file_extension": ".py",
   "mimetype": "text/x-python",
   "name": "python",
   "nbconvert_exporter": "python",
   "pygments_lexer": "ipython3",
   "version": "3.5.2"
  }
 },
 "nbformat": 4,
 "nbformat_minor": 2
}
