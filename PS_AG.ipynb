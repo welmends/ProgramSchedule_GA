{
 "cells": [
  {
   "cell_type": "code",
   "execution_count": 9,
   "metadata": {},
   "outputs": [],
   "source": [
    "# ESTUDO DO PROBLEMA DE ESCALONAMENTO DE HORÁRIOS E ALGORITMOS GENÉTICOS\n",
    "# {Inst,Salas,Profs,Programas,Cursos,Semestres} -> {Horario Semanal para cada programa com n semestres}\n",
    "\n",
    "# Cada programa terá vários cursos\n",
    "# Cada programa terá n semestres\n",
    "# Cada curso pertencerá à um semestre especifico\n",
    "# Cada semestre não poderá superar mais do que 10 aulas semanais no horario\n",
    "\n",
    "# AG -> Inst{ Programas{ Cursos, Semestres }, Salas, Profs{Cursos} } : Schedule\n",
    "\n",
    "# *OBS1: Haverá \"ataques ou choque de horarios\" em um schedule para programa com n semestres (ataque entre semestres)\n",
    "# *OBS2: Após a geração de um schedule pra um programa, guardar restrições desse programa para aplicar em outro, caso use os mesmos requisitos (salas e professores)\n",
    "\n",
    "\n",
    "# ------------ AG ------------\n",
    "# ___Code___\n",
    "# Laço:\n",
    "# - Popular\n",
    "# - Fitness\n",
    "# - Testar -> (Sol, S/ Sol, Evoluir)\n",
    "# Fim\n",
    "\n",
    "# Evoluir:\n",
    "# - Seleção\n",
    "# - Cruzamento\n",
    "# - Mutação\n",
    "# __________\n",
    "\n",
    "# Conceitos:\n",
    "# • Definir o que é cromossomo\n",
    "# • Teste de Meta: Sim, se algum cromossomo tem fitness = 1. Não, caso o contrário.\n",
    "# • Fitness: (1 - Erro/MaxErro)\n",
    "#                  (Acerto/MaxAcerto)\n",
    "# • Seleção: Roleta Viciada (Gera 2*n casais de cromossomos. Partição da roleta é baseada no valor Fitness)\n",
    "# • Cruzamento: Cruzar casais gerados na Seleção. Ao cruzar, é pegada informação do macho e da fêmea, e são gerados 2 filhos melhores geneticamente.\n",
    "# • Mutação: Mutar gene de cromossomos aleatoriamente"
   ]
  },
  {
   "cell_type": "code",
   "execution_count": 10,
   "metadata": {},
   "outputs": [],
   "source": [
    "#Import .ipynb as module: %run name.ipynb\n",
    "import math\n",
    "import random\n",
    "import copy\n",
    "import itertools as it"
   ]
  },
  {
   "cell_type": "code",
   "execution_count": 11,
   "metadata": {},
   "outputs": [
    {
     "data": {
      "text/plain": [
       "| Seg  Ter  Qua  Qui  Sex   |\n",
       "|  0    0    0    0    0    |\n",
       "|  0    0    0    0    0    |\n",
       " "
      ]
     },
     "execution_count": 11,
     "metadata": {},
     "output_type": "execute_result"
    }
   ],
   "source": [
    "class Schedule:\n",
    "    #     10 Aulas semanais:\n",
    "    # | Seg  Ter  Qua  Qui  Sex |\n",
    "    # |  1    3    5    7    9  |\n",
    "    # |  2    4    6    8   10  |\n",
    "    #\n",
    "    def __init__(self):\n",
    "        self.weekName = ['Seg', 'Ter', 'Qua', 'Qui', 'Sex']\n",
    "        self.week = [[0]*2]*5\n",
    "    \n",
    "    def __repr__(self):\n",
    "        strOut = '| '\n",
    "        for i in self.weekName:\n",
    "            strOut += i + '  '\n",
    "        strOut += ' |\\n| '\n",
    "        for i in self.week:\n",
    "            strOut += ' ' + str(i[0]) + '   '\n",
    "        strOut += ' |\\n| '\n",
    "        for i in self.week:\n",
    "            strOut += ' ' + str(i[1]) + '   '\n",
    "        strOut += ' |\\n '\n",
    "        return strOut\n",
    "    \n",
    "Schedule()"
   ]
  },
  {
   "cell_type": "code",
   "execution_count": 12,
   "metadata": {},
   "outputs": [],
   "source": [
    "class Curso:\n",
    "    def __init__(self):\n",
    "        return\n",
    "        \n",
    "class Semestre:\n",
    "    def __init__(self):\n",
    "        return\n",
    "\n",
    "class Programa:\n",
    "    def __init__(self):\n",
    "        return\n",
    "        \n",
    "class Sala:\n",
    "    def __init__(self):\n",
    "        return\n",
    "    \n",
    "class Professor:\n",
    "    def __init__(self):\n",
    "        return"
   ]
  }
 ],
 "metadata": {
  "kernelspec": {
   "display_name": "Python 3",
   "language": "python",
   "name": "python3"
  },
  "language_info": {
   "codemirror_mode": {
    "name": "ipython",
    "version": 3
   },
   "file_extension": ".py",
   "mimetype": "text/x-python",
   "name": "python",
   "nbconvert_exporter": "python",
   "pygments_lexer": "ipython3",
   "version": "3.5.2"
  }
 },
 "nbformat": 4,
 "nbformat_minor": 2
}
