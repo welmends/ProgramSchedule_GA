{
 "cells": [
  {
   "cell_type": "code",
   "execution_count": 11,
   "metadata": {},
   "outputs": [],
   "source": [
    "#Import PS_Structure Module\n",
    "%run PS_Structure.ipynb"
   ]
  },
  {
   "cell_type": "code",
   "execution_count": 6,
   "metadata": {},
   "outputs": [
    {
     "data": {
      "text/plain": [
       "[Course: Analise de Algoritmos (4 credits, 1o semester),\n",
       " Course: Sistemas Embarcados (6 credits, 1o semester),\n",
       " Course: Sistemas Operacionais (4 credits, 1o semester)]"
      ]
     },
     "execution_count": 6,
     "metadata": {},
     "output_type": "execute_result"
    }
   ],
   "source": [
    "courses1 = []\n",
    "courses2 = []\n",
    "\n",
    "courses1.append(Course('Analise de Algoritmos', 4, 1))\n",
    "courses1.append(Course('Sistemas Embarcados', 6, 1))\n",
    "courses1.append(Course('Sistemas Operacionais', 4, 1))\n",
    "courses2.append(Course('Antenas', 4, 1))\n",
    "courses2.append(Course('Sinais e Sistemas', 4, 1))\n",
    "\n",
    "courses1"
   ]
  },
  {
   "cell_type": "code",
   "execution_count": 9,
   "metadata": {},
   "outputs": [
    {
     "data": {
      "text/plain": [
       "[Program: EngComp (10 semesters, 3 courses),\n",
       " Program: EngTele (10 semesters, 2 courses)]"
      ]
     },
     "execution_count": 9,
     "metadata": {},
     "output_type": "execute_result"
    }
   ],
   "source": [
    "programs = []\n",
    "\n",
    "programs.append(Program('EngComp', 10, courses1))\n",
    "programs.append(Program('EngTele', 10, courses2))\n",
    "\n",
    "programs"
   ]
  },
  {
   "cell_type": "code",
   "execution_count": 10,
   "metadata": {},
   "outputs": [
    {
     "data": {
      "text/plain": [
       "Department: Telecom (2 programs, 5 courses)"
      ]
     },
     "execution_count": 10,
     "metadata": {},
     "output_type": "execute_result"
    }
   ],
   "source": [
    "dep = Department('Telecom', programs)\n",
    "\n",
    "dep"
   ]
  }
 ],
 "metadata": {
  "kernelspec": {
   "display_name": "Python 3",
   "language": "python",
   "name": "python3"
  },
  "language_info": {
   "codemirror_mode": {
    "name": "ipython",
    "version": 3
   },
   "file_extension": ".py",
   "mimetype": "text/x-python",
   "name": "python",
   "nbconvert_exporter": "python",
   "pygments_lexer": "ipython3",
   "version": "3.5.2"
  }
 },
 "nbformat": 4,
 "nbformat_minor": 2
}
