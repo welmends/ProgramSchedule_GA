{
 "cells": [
  {
   "cell_type": "code",
   "execution_count": 1,
   "metadata": {},
   "outputs": [],
   "source": [
    "class Course:\n",
    "    def __init__(self, name, credits, semester):\n",
    "        self.name     = name\n",
    "        self.credits  = credits\n",
    "        self.semester = semester\n",
    "        \n",
    "    def __repr__(self):\n",
    "        return 'Course: {} ({} credits, {}o semester)'.format(self.name, self.credits, self.semester)"
   ]
  },
  {
   "cell_type": "code",
   "execution_count": 2,
   "metadata": {},
   "outputs": [],
   "source": [
    "class Program:\n",
    "    def __init__(self, name, numSemesters, courses):\n",
    "        self.name         = name\n",
    "        self.numSemesters = numSemesters\n",
    "        self.numCourses   = len(courses)\n",
    "        self.courses      = courses\n",
    "    \n",
    "    def __repr__(self):\n",
    "        return 'Program: {} ({} semesters, {} courses)'.format(self.name, self.numSemesters, self.numCourses)"
   ]
  },
  {
   "cell_type": "code",
   "execution_count": 3,
   "metadata": {},
   "outputs": [],
   "source": [
    "class Department:\n",
    "    def __init__(self, name, programs):\n",
    "        self.name        = name\n",
    "        self.numPrograms = len(programs)\n",
    "        self.programs    = programs\n",
    "        \n",
    "    def __repr__(self):\n",
    "        return 'Department: {} ({} programs, {} courses)'.format(self.name, self.numPrograms, sum([p.numCourses for p in programs]))"
   ]
  }
 ],
 "metadata": {
  "kernelspec": {
   "display_name": "Python 3",
   "language": "python",
   "name": "python3"
  },
  "language_info": {
   "codemirror_mode": {
    "name": "ipython",
    "version": 3
   },
   "file_extension": ".py",
   "mimetype": "text/x-python",
   "name": "python",
   "nbconvert_exporter": "python",
   "pygments_lexer": "ipython3",
   "version": "3.5.2"
  }
 },
 "nbformat": 4,
 "nbformat_minor": 2
}
